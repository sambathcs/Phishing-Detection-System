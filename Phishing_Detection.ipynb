{
  "nbformat": 4,
  "nbformat_minor": 0,
  "metadata": {
    "colab": {
      "provenance": [],
      "authorship_tag": "ABX9TyN/2OjVPMo2bNAqaXoY6cgn",
      "include_colab_link": true
    },
    "kernelspec": {
      "name": "python3",
      "display_name": "Python 3"
    },
    "language_info": {
      "name": "python"
    }
  },
  "cells": [
    {
      "cell_type": "markdown",
      "metadata": {
        "id": "view-in-github",
        "colab_type": "text"
      },
      "source": [
        "<a href=\"https://colab.research.google.com/github/sambathcs/Phishing-Detection-System/blob/main/Phishing_Detection.ipynb\" target=\"_parent\"><img src=\"https://colab.research.google.com/assets/colab-badge.svg\" alt=\"Open In Colab\"/></a>"
      ]
    },
    {
      "cell_type": "markdown",
      "source": [
        "📌 **Step 1: Project Setup**\n",
        "1️⃣ Create a GitHub Repository\n",
        "Repo Name: Phishing-Detection-System\n",
        "Add a README.md with project details\n",
        "Create a directory structure like this:"
      ],
      "metadata": {
        "id": "YjRWxtfW-lxy"
      }
    },
    {
      "cell_type": "markdown",
      "source": [
        "Phishing-Detection-System/\n",
        "│── datasets/         # Contains phishing URL datasets\n",
        "│── models/           # Stores trained models (if using ML)\n",
        "│── phishing_detector.py   # Main detection script\n",
        "│── requirements.txt  # List of dependencies\n",
        "│── README.md         # Project documentation"
      ],
      "metadata": {
        "id": "XGpCp-iL-qUK"
      }
    },
    {
      "cell_type": "markdown",
      "source": [
        "📌 Step 2: Collect Phishing & Legitimate URLs\n",
        "✅ Option 1: Use a Public Dataset\n",
        "PhishTank – Live phishing sites\n",
        "OpenPhish – Free phishing feeds\n",
        "UCI ML Repository – Phishing website dataset"
      ],
      "metadata": {
        "id": "Ujgq8p4g-4ue"
      }
    },
    {
      "cell_type": "markdown",
      "source": [
        "📌 Step 3: Load the Phishing Dataset\n",
        "Now, let's get some real phishing vs. safe URLs to train our model.\n",
        "\n",
        "🔹 Option 1: Use Public Dataset (Recommended)\n",
        "Download the dataset from UCI ML Phishing Websites\n",
        "\n",
        "Click \"Data Folder\"\n",
        "Download phishing.csv\n",
        "Upload it to Colab:\n",
        "Click the folder icon 📂 (left sidebar)\n",
        "Click Upload ⬆️\n",
        "Select your phishing.csv file\n",
        "🔹 Option 2: Use a Sample Dataset in Code\n",
        "If you don’t have a dataset, just create a small one:"
      ],
      "metadata": {
        "id": "JmxmTskT-_EV"
      }
    },
    {
      "cell_type": "markdown",
      "source": [
        "import pandas as pd\n",
        "\n",
        "data = {\n",
        "    \"URL\": [\n",
        "        \"http://paypal-security-verification.com\",\n",
        "        \"https://google.com\",\n",
        "        \"http://secure-bank-login.com\",\n",
        "        \"https://github.com\"\n",
        "    ],\n",
        "    \"Phishing\": [1, 0, 1, 0]  # 1 = Phishing, 0 = Safe\n",
        "}\n",
        "\n",
        "df = pd.DataFrame(data)\n",
        "print(df.head())"
      ],
      "metadata": {
        "id": "LvlLEsw8_NjS"
      }
    },
    {
      "cell_type": "markdown",
      "source": [
        "📌 Step 4: Extract Features from URLs\n",
        "Now we process the URLs to detect patterns (e.g., length, special characters, HTTPS usage, subdomains, etc.)."
      ],
      "metadata": {
        "id": "4wvam0K3_cT7"
      }
    },
    {
      "cell_type": "markdown",
      "source": [
        "📌 Step 5: Train a Machine Learning Model\n",
        "Now, let’s train a Random Forest Classifier to predict phishing URLs."
      ],
      "metadata": {
        "id": "ACr9rsPNADz3"
      }
    },
    {
      "cell_type": "markdown",
      "source": [
        "📌 Step 6: Test the Model\n",
        "Now, let’s test a new URL to see if it’s phishing or safe."
      ],
      "metadata": {
        "id": "UVUoAvFdAJBr"
      }
    },
    {
      "cell_type": "markdown",
      "source": [
        "📌 Step 7: Save & Upload to GitHub\n",
        "Click \"File\" → \"Save a copy in GitHub\"\n",
        "Select your repository (Phishing-Detection-System)\n",
        "Commit Message: Added ML-based phishing detection system\n",
        "Click \"OK\""
      ],
      "metadata": {
        "id": "gJZFTmtlAOCw"
      }
    },
    {
      "cell_type": "markdown",
      "source": [
        "**📌 Step 1: Convert .ARFF to .CSV**\n",
        "✅ Option 1: Use Python to Convert\n",
        "Run this in Google Colab to convert the dataset:"
      ],
      "metadata": {
        "id": "ycodC-SZATcW"
      }
    },
    {
      "cell_type": "code",
      "source": [
        "import pandas as pd\n",
        "from scipy.io import arff\n",
        "\n",
        "# Load the ARFF file\n",
        "data, meta = arff.loadarff('/content/Training Dataset.arff')  # Change path if needed\n",
        "\n",
        "# Convert to DataFrame\n",
        "df = pd.DataFrame(data)\n",
        "\n",
        "# Save as CSV\n",
        "df.to_csv('/content/phishing_dataset.csv', index=False)\n",
        "\n",
        "# Show first 5 rows\n",
        "print(df.head())"
      ],
      "metadata": {
        "colab": {
          "base_uri": "https://localhost:8080/"
        },
        "id": "0YVHQqT9Ac5w",
        "outputId": "e002a822-dc56-4be5-c49a-3a2299a0f49b"
      },
      "execution_count": 28,
      "outputs": [
        {
          "output_type": "stream",
          "name": "stdout",
          "text": [
            "  having_IP_Address URL_Length Shortining_Service having_At_Symbol  \\\n",
            "0             b'-1'       b'1'               b'1'             b'1'   \n",
            "1              b'1'       b'1'               b'1'             b'1'   \n",
            "2              b'1'       b'0'               b'1'             b'1'   \n",
            "3              b'1'       b'0'               b'1'             b'1'   \n",
            "4              b'1'       b'0'              b'-1'             b'1'   \n",
            "\n",
            "  double_slash_redirecting Prefix_Suffix having_Sub_Domain SSLfinal_State  \\\n",
            "0                    b'-1'         b'-1'             b'-1'          b'-1'   \n",
            "1                     b'1'         b'-1'              b'0'           b'1'   \n",
            "2                     b'1'         b'-1'             b'-1'          b'-1'   \n",
            "3                     b'1'         b'-1'             b'-1'          b'-1'   \n",
            "4                     b'1'         b'-1'              b'1'           b'1'   \n",
            "\n",
            "  Domain_registeration_length Favicon  ... popUpWidnow Iframe age_of_domain  \\\n",
            "0                       b'-1'    b'1'  ...        b'1'   b'1'         b'-1'   \n",
            "1                       b'-1'    b'1'  ...        b'1'   b'1'         b'-1'   \n",
            "2                       b'-1'    b'1'  ...        b'1'   b'1'          b'1'   \n",
            "3                        b'1'    b'1'  ...        b'1'   b'1'         b'-1'   \n",
            "4                       b'-1'    b'1'  ...       b'-1'   b'1'         b'-1'   \n",
            "\n",
            "  DNSRecord web_traffic Page_Rank Google_Index Links_pointing_to_page  \\\n",
            "0     b'-1'       b'-1'     b'-1'         b'1'                   b'1'   \n",
            "1     b'-1'        b'0'     b'-1'         b'1'                   b'1'   \n",
            "2     b'-1'        b'1'     b'-1'         b'1'                   b'0'   \n",
            "3     b'-1'        b'1'     b'-1'         b'1'                  b'-1'   \n",
            "4     b'-1'        b'0'     b'-1'         b'1'                   b'1'   \n",
            "\n",
            "  Statistical_report Result  \n",
            "0              b'-1'  b'-1'  \n",
            "1               b'1'  b'-1'  \n",
            "2              b'-1'  b'-1'  \n",
            "3               b'1'  b'-1'  \n",
            "4               b'1'   b'1'  \n",
            "\n",
            "[5 rows x 31 columns]\n"
          ]
        }
      ]
    },
    {
      "cell_type": "markdown",
      "source": [
        "➡️ This will create phishing_dataset.csv that you can use in Python."
      ],
      "metadata": {
        "id": "JeobO74JAmPn"
      }
    },
    {
      "cell_type": "markdown",
      "source": [
        "**📌 Step 2: Load Converted CSV in Google Colab**\n",
        "After running the conversion, load the dataset:"
      ],
      "metadata": {
        "id": "2GCHkkyNA0Oc"
      }
    },
    {
      "cell_type": "code",
      "source": [
        "df = pd.read_csv('/content/phishing_dataset.csv')\n",
        "print(df.head())  # Check first few rows"
      ],
      "metadata": {
        "colab": {
          "base_uri": "https://localhost:8080/"
        },
        "id": "lc3R_RHqApxi",
        "outputId": "74a0b07b-daed-49bb-8fd0-8c6c8b51af4c"
      },
      "execution_count": 29,
      "outputs": [
        {
          "output_type": "stream",
          "name": "stdout",
          "text": [
            "  having_IP_Address URL_Length Shortining_Service having_At_Symbol  \\\n",
            "0             b'-1'       b'1'               b'1'             b'1'   \n",
            "1              b'1'       b'1'               b'1'             b'1'   \n",
            "2              b'1'       b'0'               b'1'             b'1'   \n",
            "3              b'1'       b'0'               b'1'             b'1'   \n",
            "4              b'1'       b'0'              b'-1'             b'1'   \n",
            "\n",
            "  double_slash_redirecting Prefix_Suffix having_Sub_Domain SSLfinal_State  \\\n",
            "0                    b'-1'         b'-1'             b'-1'          b'-1'   \n",
            "1                     b'1'         b'-1'              b'0'           b'1'   \n",
            "2                     b'1'         b'-1'             b'-1'          b'-1'   \n",
            "3                     b'1'         b'-1'             b'-1'          b'-1'   \n",
            "4                     b'1'         b'-1'              b'1'           b'1'   \n",
            "\n",
            "  Domain_registeration_length Favicon  ... popUpWidnow Iframe age_of_domain  \\\n",
            "0                       b'-1'    b'1'  ...        b'1'   b'1'         b'-1'   \n",
            "1                       b'-1'    b'1'  ...        b'1'   b'1'         b'-1'   \n",
            "2                       b'-1'    b'1'  ...        b'1'   b'1'          b'1'   \n",
            "3                        b'1'    b'1'  ...        b'1'   b'1'         b'-1'   \n",
            "4                       b'-1'    b'1'  ...       b'-1'   b'1'         b'-1'   \n",
            "\n",
            "  DNSRecord web_traffic Page_Rank Google_Index Links_pointing_to_page  \\\n",
            "0     b'-1'       b'-1'     b'-1'         b'1'                   b'1'   \n",
            "1     b'-1'        b'0'     b'-1'         b'1'                   b'1'   \n",
            "2     b'-1'        b'1'     b'-1'         b'1'                   b'0'   \n",
            "3     b'-1'        b'1'     b'-1'         b'1'                  b'-1'   \n",
            "4     b'-1'        b'0'     b'-1'         b'1'                   b'1'   \n",
            "\n",
            "  Statistical_report Result  \n",
            "0              b'-1'  b'-1'  \n",
            "1               b'1'  b'-1'  \n",
            "2              b'-1'  b'-1'  \n",
            "3               b'1'  b'-1'  \n",
            "4               b'1'   b'1'  \n",
            "\n",
            "[5 rows x 31 columns]\n"
          ]
        }
      ]
    },
    {
      "cell_type": "markdown",
      "source": [
        "**📌 Convert Entire DataFrame to Numeric Format**\n",
        "Try using pd.to_numeric() instead of applymap():"
      ],
      "metadata": {
        "id": "oA0ovGKWA4n7"
      }
    },
    {
      "cell_type": "code",
      "source": [
        "# Convert all object (string) columns to numeric\n",
        "df = df.apply(pd.to_numeric, errors='coerce')\n",
        "\n",
        "# Verify that all columns are now numeric\n",
        "print(df.dtypes)"
      ],
      "metadata": {
        "colab": {
          "base_uri": "https://localhost:8080/"
        },
        "id": "cKfubMqzBo_x",
        "outputId": "f4804d4b-30c3-43c2-f461-acbe8526953c"
      },
      "execution_count": 30,
      "outputs": [
        {
          "output_type": "stream",
          "name": "stdout",
          "text": [
            "having_IP_Address              float64\n",
            "URL_Length                     float64\n",
            "Shortining_Service             float64\n",
            "having_At_Symbol               float64\n",
            "double_slash_redirecting       float64\n",
            "Prefix_Suffix                  float64\n",
            "having_Sub_Domain              float64\n",
            "SSLfinal_State                 float64\n",
            "Domain_registeration_length    float64\n",
            "Favicon                        float64\n",
            "port                           float64\n",
            "HTTPS_token                    float64\n",
            "Request_URL                    float64\n",
            "URL_of_Anchor                  float64\n",
            "Links_in_tags                  float64\n",
            "SFH                            float64\n",
            "Submitting_to_email            float64\n",
            "Abnormal_URL                   float64\n",
            "Redirect                       float64\n",
            "on_mouseover                   float64\n",
            "RightClick                     float64\n",
            "popUpWidnow                    float64\n",
            "Iframe                         float64\n",
            "age_of_domain                  float64\n",
            "DNSRecord                      float64\n",
            "web_traffic                    float64\n",
            "Page_Rank                      float64\n",
            "Google_Index                   float64\n",
            "Links_pointing_to_page         float64\n",
            "Statistical_report             float64\n",
            "Result                         float64\n",
            "dtype: object\n"
          ]
        }
      ]
    },
    {
      "cell_type": "markdown",
      "source": [
        "🔹 What this does:\n",
        "✔️ Converts all columns from object to int64 or float64\n",
        "✔️ Handles errors (errors='coerce') – If a value can't be converted, it replaces it with NaN."
      ],
      "metadata": {
        "id": "mjuF29usBwRS"
      }
    },
    {
      "cell_type": "markdown",
      "source": [
        "**📌Handle Any Remaining NaN Values**\n",
        "Check if any values became NaN after conversion:"
      ],
      "metadata": {
        "id": "jSPlHGVLB2Kd"
      }
    },
    {
      "cell_type": "code",
      "source": [
        "print(df.isnull().sum())  # Check for NaN values"
      ],
      "metadata": {
        "colab": {
          "base_uri": "https://localhost:8080/"
        },
        "id": "_QrmaxVEByye",
        "outputId": "f1175178-49df-417b-a009-c2d2699c3bab"
      },
      "execution_count": 31,
      "outputs": [
        {
          "output_type": "stream",
          "name": "stdout",
          "text": [
            "having_IP_Address              11055\n",
            "URL_Length                     11055\n",
            "Shortining_Service             11055\n",
            "having_At_Symbol               11055\n",
            "double_slash_redirecting       11055\n",
            "Prefix_Suffix                  11055\n",
            "having_Sub_Domain              11055\n",
            "SSLfinal_State                 11055\n",
            "Domain_registeration_length    11055\n",
            "Favicon                        11055\n",
            "port                           11055\n",
            "HTTPS_token                    11055\n",
            "Request_URL                    11055\n",
            "URL_of_Anchor                  11055\n",
            "Links_in_tags                  11055\n",
            "SFH                            11055\n",
            "Submitting_to_email            11055\n",
            "Abnormal_URL                   11055\n",
            "Redirect                       11055\n",
            "on_mouseover                   11055\n",
            "RightClick                     11055\n",
            "popUpWidnow                    11055\n",
            "Iframe                         11055\n",
            "age_of_domain                  11055\n",
            "DNSRecord                      11055\n",
            "web_traffic                    11055\n",
            "Page_Rank                      11055\n",
            "Google_Index                   11055\n",
            "Links_pointing_to_page         11055\n",
            "Statistical_report             11055\n",
            "Result                         11055\n",
            "dtype: int64\n"
          ]
        }
      ]
    },
    {
      "cell_type": "markdown",
      "source": [
        "➡️ If you find NaN values, fill them with 0 or the column mean:"
      ],
      "metadata": {
        "id": "bVrZd0OEB87O"
      }
    },
    {
      "cell_type": "markdown",
      "source": [
        "**📌Convert Byte-Encoded Values to Integers** :\n",
        "Now, apply the proper conversion after handling NaN values:"
      ],
      "metadata": {
        "id": "bGgJ2ybvDfj7"
      }
    },
    {
      "cell_type": "code",
      "source": [
        "df = df.apply(lambda x: x.str.decode('utf-8').astype(float) if x.dtype == 'object' else x)"
      ],
      "metadata": {
        "id": "cBeHlxkZDikP"
      },
      "execution_count": 38,
      "outputs": []
    },
    {
      "cell_type": "code",
      "source": [
        "df = df.fillna(0)  # Replace NaN with 0\n",
        "# OR\n",
        "df = df.fillna(df.mean())  # Replace NaN with column mean"
      ],
      "metadata": {
        "id": "c4WI_ldhB_bf"
      },
      "execution_count": 32,
      "outputs": []
    },
    {
      "cell_type": "markdown",
      "source": [
        "**📌 Update Column Name**s\n",
        "If the dataset doesn't have \"Phishing\", use the correct column name from df.columns output.\n",
        "\n",
        "For example, if \"class\" is the label column (instead of \"Phishing\"), change this:"
      ],
      "metadata": {
        "id": "0GDCSXPDCO6e"
      }
    },
    {
      "cell_type": "code",
      "source": [
        "X = df.drop(columns=[\"having_IP_Address\", \"Result\"])  # Change column names based on your dataset\n",
        "y = df[\"Result\"]  # \"Result\" is often used as the phishing label in this dataset"
      ],
      "metadata": {
        "id": "OOAUvGyBCR7j"
      },
      "execution_count": 36,
      "outputs": []
    },
    {
      "cell_type": "markdown",
      "source": [
        "**📌Fix the Feature Selection**"
      ],
      "metadata": {
        "id": "6mSWAlbIDLLz"
      }
    },
    {
      "cell_type": "code",
      "source": [
        "# Define features & target variable\n",
        "X = df.drop(columns=[\"Result\"])  # Drop the \"Result\" column because it's the target\n",
        "y = df[\"Result\"]  # Labels (1 = Phishing, -1 = Safe)"
      ],
      "metadata": {
        "id": "JmCAaSzhDNFI"
      },
      "execution_count": 37,
      "outputs": []
    },
    {
      "cell_type": "markdown",
      "source": [
        "**📌 Step 5: Train a Machine Learning Model**\n",
        "Now, let’s train a Random Forest Classifier to predict phishing URLs."
      ],
      "metadata": {
        "id": "M0Atxb_dEs0i"
      }
    },
    {
      "cell_type": "code",
      "source": [
        "from sklearn.model_selection import train_test_split\n",
        "from sklearn.ensemble import RandomForestClassifier\n",
        "from sklearn.metrics import accuracy_score\n",
        "\n",
        "# Define features & target variable\n",
        "X = df.drop(columns=[\"Result\"])  # Remove non-numeric columns\n",
        "y = df[\"Result\"]\n",
        "\n",
        "# Split data into training & testing sets\n",
        "X_train, X_test, y_train, y_test = train_test_split(X, y, test_size=0.2, random_state=42)\n",
        "\n",
        "# Train model\n",
        "model = RandomForestClassifier(n_estimators=100, random_state=42)\n",
        "model.fit(X_train, y_train)\n",
        "\n",
        "# Test accuracy\n",
        "y_pred = model.predict(X_test)\n",
        "print(f\"Model Accuracy: {accuracy_score(y_test, y_pred) * 100:.2f}%\")"
      ],
      "metadata": {
        "colab": {
          "base_uri": "https://localhost:8080/"
        },
        "id": "sXUe3EAcEFbi",
        "outputId": "561bcb0c-5373-49a4-b9ce-8161416648b7"
      },
      "execution_count": 40,
      "outputs": [
        {
          "output_type": "stream",
          "name": "stdout",
          "text": [
            "Model Accuracy: 100.00%\n"
          ]
        }
      ]
    },
    {
      "cell_type": "markdown",
      "source": [
        "🔍 Why Is the Accuracy 100%?\n",
        "If accuracy is too high (100%), it might mean:\n",
        "✅ Dataset is well-structured & model is performing well.\n",
        "❌ Model may be overfitting (memorizing training data instead of generalizing)."
      ],
      "metadata": {
        "id": "bYlTOfdPFCOR"
      }
    },
    {
      "cell_type": "markdown",
      "source": [
        "**📌 Next Steps: Improve Your Project**\n",
        "Now that your model works, here’s how to make it even better:\n",
        "\n",
        "**1️⃣ Test on New Data (Check Real-World Accuracy)**\n",
        "Try predicting new phishing URLs to see how well your model generalizes:"
      ],
      "metadata": {
        "id": "HFcss02LFHzI"
      }
    },
    {
      "cell_type": "code",
      "source": [
        "# Test a sample phishing URL\n",
        "test_url = {\n",
        "    \"having_IP_Address\": 1,\n",
        "    \"URL_Length\": 60,\n",
        "    \"Shortining_Service\": 1,\n",
        "    \"having_At_Symbol\": 1,\n",
        "    \"double_slash_redirecting\": 0,\n",
        "    \"Prefix_Suffix\": 1,\n",
        "    \"having_Sub_Domain\": 2,\n",
        "    \"SSLfinal_State\": 0,\n",
        "    \"Domain_registeration_length\": 0,\n",
        "    \"Favicon\": 1,\n",
        "    \"port\": 0,\n",
        "    \"HTTPS_token\": 1,\n",
        "    \"Request_URL\": 1,\n",
        "    \"URL_of_Anchor\": 0,\n",
        "    \"Links_in_tags\": 0,\n",
        "    \"SFH\": 1,\n",
        "    \"Submitting_to_email\": 1,\n",
        "    \"Abnormal_URL\": 1,\n",
        "    \"Redirect\": 0,\n",
        "    \"on_mouseover\": 1,\n",
        "    \"RightClick\": 1,\n",
        "    \"popUpWidnow\": 1,\n",
        "    \"Iframe\": 1,\n",
        "    \"age_of_domain\": 0,\n",
        "    \"DNSRecord\": 0,\n",
        "    \"web_traffic\": 1,\n",
        "    \"Page_Rank\": 0,\n",
        "    \"Google_Index\": 1,\n",
        "    \"Links_pointing_to_page\": 1,\n",
        "    \"Statistical_report\": 1,\n",
        "}\n",
        "\n",
        "import pandas as pd\n",
        "\n",
        "test_df = pd.DataFrame([test_url])\n",
        "prediction = model.predict(test_df)[0]\n",
        "\n",
        "print(\"🚨 Phishing Detected! 🚨\" if prediction == 1 else \"✅ Safe Website ✅\")"
      ],
      "metadata": {
        "colab": {
          "base_uri": "https://localhost:8080/"
        },
        "id": "VPj_tDxOFKZS",
        "outputId": "543ee68b-2de5-4fa8-cd8e-372a1ec7cf04"
      },
      "execution_count": 41,
      "outputs": [
        {
          "output_type": "stream",
          "name": "stdout",
          "text": [
            "✅ Safe Website ✅\n"
          ]
        }
      ]
    }
  ]
}